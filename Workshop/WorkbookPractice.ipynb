{
 "cells": [
  {
   "cell_type": "markdown",
   "id": "41a1c72d-e9b7-486e-9937-8f234e9175e8",
   "metadata": {},
   "source": [
    "# Jupyter Notebook Practice #"
   ]
  },
  {
   "cell_type": "markdown",
   "id": "807fb6cf-33e1-40c5-aabe-64f48e4b2dd4",
   "metadata": {},
   "source": [
    "### To run cell, click into cell and press CTRL + ENTER ###"
   ]
  },
  {
   "cell_type": "markdown",
   "id": "6fb64e86-6c13-4bbd-8ab7-715f9d873459",
   "metadata": {},
   "source": [
    "#### Import libraries ####"
   ]
  },
  {
   "cell_type": "code",
   "execution_count": null,
   "id": "1157a29b-dfe0-48a9-b44f-6b68706458b3",
   "metadata": {},
   "outputs": [],
   "source": [
    "import pandas as pd\n",
    "import requests\n",
    "from PIL import Image\n",
    "from io import BytesIO"
   ]
  },
  {
   "cell_type": "markdown",
   "id": "5c6408fe-076e-441b-85bf-f928b08ec2d3",
   "metadata": {},
   "source": [
    "#### Basic Inputs ####"
   ]
  },
  {
   "cell_type": "code",
   "execution_count": null,
   "id": "089dbe25-69dc-40fe-a8d4-5f698670a828",
   "metadata": {},
   "outputs": [],
   "source": [
    "name = input('Enter name: ')\n",
    "print(f'Hello {name}')"
   ]
  },
  {
   "cell_type": "markdown",
   "id": "ee7b4fe1-795c-4a41-ba89-79497f81a905",
   "metadata": {},
   "source": [
    "#### Using Requests ####"
   ]
  },
  {
   "cell_type": "code",
   "execution_count": null,
   "id": "a64e6e71-1960-4af9-814d-f800e029a3e7",
   "metadata": {},
   "outputs": [],
   "source": [
    "url = \"https://www.clipartmax.com/png/middle/331-3315172_prairie-view-a-m-football-logo.png\"\n",
    "response = requests.get(url)\n",
    "print(response)"
   ]
  },
  {
   "cell_type": "code",
   "execution_count": null,
   "id": "c56eaa0e-19b7-4071-b09b-7456996fdb60",
   "metadata": {},
   "outputs": [],
   "source": [
    "pic = Image.open(BytesIO(response.content))\n",
    "pic.show()"
   ]
  },
  {
   "cell_type": "markdown",
   "id": "9fcb9bb1-48d3-461d-bc86-79bb07182bc0",
   "metadata": {},
   "source": [
    "#### Reading and CSV Data ####"
   ]
  },
  {
   "cell_type": "code",
   "execution_count": null,
   "id": "b158ac2e-5dc6-436b-aab8-df6fc78814dc",
   "metadata": {},
   "outputs": [],
   "source": [
    "df = pd.read_csv('Salaries.csv')"
   ]
  },
  {
   "cell_type": "code",
   "execution_count": null,
   "id": "1e150816-589c-4f57-b126-4c74cb85242b",
   "metadata": {},
   "outputs": [],
   "source": [
    "print(df.count())"
   ]
  },
  {
   "cell_type": "markdown",
   "id": "2e737a76-3d8b-4ac3-8f0c-3893030f4eae",
   "metadata": {},
   "source": [
    "#### Find Average Base Pay ####"
   ]
  },
  {
   "cell_type": "code",
   "execution_count": null,
   "id": "e0ada4c1-7d4a-4d4e-b7ed-ecca395bc693",
   "metadata": {},
   "outputs": [],
   "source": [
    "print((df['BasePay'].sum())/(df['BasePay'].count()))"
   ]
  },
  {
   "cell_type": "markdown",
   "id": "bef1b7af-8012-4637-83fe-564c0ab953de",
   "metadata": {},
   "source": [
    "#### Find Unique Job Titles ####"
   ]
  },
  {
   "cell_type": "code",
   "execution_count": null,
   "id": "12b40572-d5c0-467b-be54-0cd240c720ab",
   "metadata": {},
   "outputs": [],
   "source": [
    "print(len(df['JobTitle'].unique()))"
   ]
  },
  {
   "cell_type": "markdown",
   "id": "a2946d77-50a0-4970-8c4a-1687453a4e5f",
   "metadata": {},
   "source": [
    "#### Print Salary in certain range ####"
   ]
  },
  {
   "cell_type": "code",
   "execution_count": null,
   "id": "57e2492c-f5d9-47de-bef3-6574233f94eb",
   "metadata": {},
   "outputs": [],
   "source": [
    "print((df[(df.BasePay > 80000) & (df.BasePay < 120000)])['BasePay'].count())"
   ]
  },
  {
   "cell_type": "markdown",
   "id": "b36a7f43-44a7-429c-911a-c805338e6c5e",
   "metadata": {},
   "source": [
    "#### Plot Data ####"
   ]
  },
  {
   "cell_type": "code",
   "execution_count": null,
   "id": "088790be-b61a-44d2-b4cf-a231ce8f2ae5",
   "metadata": {},
   "outputs": [],
   "source": [
    "df.groupby('Year').TotalPay.mean().plot(kind = 'bar')"
   ]
  },
  {
   "cell_type": "markdown",
   "id": "c4c174fb-e3dc-46a0-8307-f5e185d9b25a",
   "metadata": {},
   "source": [
    "#### Request Data from Website ####"
   ]
  },
  {
   "cell_type": "code",
   "execution_count": null,
   "id": "8c68eb2e-0e34-41ce-a4e3-1fb010c17278",
   "metadata": {},
   "outputs": [],
   "source": [
    "newurl = \"https://data.wa.gov/api/views/f6w7-q2d2/rows.csv\""
   ]
  },
  {
   "cell_type": "code",
   "execution_count": null,
   "id": "2717b4fc-060d-4f21-a80a-311285a70b76",
   "metadata": {},
   "outputs": [],
   "source": [
    "evdf = pd.read_csv(\n",
    "    newurl,\n",
    "    sep=',',\n",
    "    encoding='utf-8',\n",
    ")"
   ]
  },
  {
   "cell_type": "code",
   "execution_count": null,
   "id": "18a7118a-9b5a-48fd-8a11-445d21cdedf1",
   "metadata": {},
   "outputs": [],
   "source": [
    "display(evdf)"
   ]
  }
 ],
 "metadata": {
  "kernelspec": {
   "display_name": "Python 3 (ipykernel)",
   "language": "python",
   "name": "python3"
  },
  "language_info": {
   "codemirror_mode": {
    "name": "ipython",
    "version": 3
   },
   "file_extension": ".py",
   "mimetype": "text/x-python",
   "name": "python",
   "nbconvert_exporter": "python",
   "pygments_lexer": "ipython3",
   "version": "3.11.5"
  }
 },
 "nbformat": 4,
 "nbformat_minor": 5
}
